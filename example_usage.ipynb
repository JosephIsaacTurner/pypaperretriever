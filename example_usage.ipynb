{
 "cells": [
  {
   "cell_type": "markdown",
   "metadata": {},
   "source": [
    "## PyPaperRetriever Example Usage\n",
    "\n",
    "This notebook demonstrates how to use the PyPaperRetriever library to fetch "
   ]
  },
  {
   "cell_type": "code",
   "execution_count": 2,
   "metadata": {},
   "outputs": [],
   "source": [
    "doi = \"10.1056/NEJMra1706158\"\n",
    "email = \"your_email@gmail.com\"\n",
    "download_dir = \"pdf_downloads\"\n",
    "allow_scihub = True # If False, will only use open-access sources\n",
    "filename = \"fox_nejfm_2018.pdf\" # Optional, defaults to doi-<doi>/doi-<doi>.pdf for interoperability with PyBIDS"
   ]
  },
  {
   "cell_type": "markdown",
   "metadata": {},
   "source": [
    "### Pythonic Usage\n",
    "- Import and create an object of the PyPaperRetriever class."
   ]
  },
  {
   "cell_type": "code",
   "execution_count": 3,
   "metadata": {},
   "outputs": [
    {
     "name": "stdout",
     "output_type": "stream",
     "text": [
      "Downloaded to pdf_downloads/doi-10%2E1056%2FNEJMra1706158/doi-10%2E1056%2FNEJMra1706158.pdf\n"
     ]
    }
   ],
   "source": [
    "from pypaperretriever import PyPaperRetriever\n",
    "\n",
    "retriever = PyPaperRetriever(email=email, doi=doi, download_directory=download_dir, allow_scihub=allow_scihub)\n",
    "result = retriever.find_and_download()\n",
    "if result.is_downloaded:\n",
    "    print(\"Downloaded to\", result.filepath)"
   ]
  },
  {
   "cell_type": "markdown",
   "metadata": {},
   "source": [
    "### Command Line Implementation\n",
    "- Similar usage to PyPaperBot, but allows specifying filename and whether to use Sci-Hub.\n",
    "\n",
    "**String Usage**:\n",
    "\n",
    "`python -m pypaperretriever --email your_email@gmail.com --doi 10.1056/NEJMra1706158 --dwn-dir pdf_downloads --allow-scihub --filename fox_nejfm_2018.pdf`"
   ]
  },
  {
   "cell_type": "code",
   "execution_count": 4,
   "metadata": {},
   "outputs": [],
   "source": [
    "import subprocess\n",
    "\n",
    "command = [\n",
    "    'python', '-m', \"pypaperretriever\",\n",
    "    '--email', email,\n",
    "    '--doi', doi,\n",
    "    '--dwn-dir', download_dir,\n",
    "    '--allow-scihub' if allow_scihub else '--no-scihub', \n",
    "    '--filename', filename\n",
    "]\n",
    "\n",
    "result = subprocess.run(command)"
   ]
  }
 ],
 "metadata": {
  "kernelspec": {
   "display_name": "joseph_env",
   "language": "python",
   "name": "python3"
  },
  "language_info": {
   "codemirror_mode": {
    "name": "ipython",
    "version": 3
   },
   "file_extension": ".py",
   "mimetype": "text/x-python",
   "name": "python",
   "nbconvert_exporter": "python",
   "pygments_lexer": "ipython3",
   "version": "3.11.8"
  }
 },
 "nbformat": 4,
 "nbformat_minor": 2
}
